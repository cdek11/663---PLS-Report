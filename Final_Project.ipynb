{
 "cells": [
  {
   "cell_type": "code",
   "execution_count": 1,
   "metadata": {
    "collapsed": false
   },
   "outputs": [
    {
     "name": "stderr",
     "output_type": "stream",
     "text": [
      "/opt/conda/lib/python3.5/site-packages/sklearn/cross_validation.py:44: DeprecationWarning: This module was deprecated in version 0.18 in favor of the model_selection module into which all the refactored classes and functions are moved. Also note that the interface of the new CV iterators are different from that of this module. This module will be removed in 0.20.\n",
      "  \"This module will be removed in 0.20.\", DeprecationWarning)\n"
     ]
    }
   ],
   "source": [
    "%matplotlib inline\n",
    "import pandas as pd\n",
    "import numpy as np\n",
    "import matplotlib.pyplot as plt\n",
    "from sklearn.preprocessing import scale\n",
    "from sklearn import cross_validation\n",
    "from sklearn.decomposition import PCA\n",
    "from sklearn.linear_model import LinearRegression as lin_reg\n",
    "from sklearn.cross_decomposition import PLSRegression, PLSSVD\n",
    "from sklearn.metrics import mean_squared_error\n",
    "from math import sqrt"
   ]
  },
  {
   "cell_type": "code",
   "execution_count": 2,
   "metadata": {
    "collapsed": false,
    "scrolled": true
   },
   "outputs": [],
   "source": [
    "# load in ames home price train and test data\n",
    "ames_train = pd.read_csv(\"ames_train.csv\")\n",
    "ames_test = pd.read_csv(\"ames_test.csv\")\n",
    "#ames_train.info()"
   ]
  },
  {
   "cell_type": "code",
   "execution_count": 3,
   "metadata": {
    "collapsed": false
   },
   "outputs": [],
   "source": [
    "# create variables for train and test data separately, x for predictors, y for response\n",
    "\n",
    "y_train = ames_train.price\n",
    "x_predictors_train = ames_train[[\"area\", \"Lot.Area\", \"Fireplaces\", \"TotalSq\", \"Garage.Cars\", \"Lot.Frontage\", \"Overall.Qual\", \"Overall.Cond\", \"Year.Built\", \"Mas.Vnr.Area\", \"BsmtFin.SF.1\", \"X1st.Flr.SF\", \"X2nd.Flr.SF\"]].fillna(value=0)\n",
    "\n",
    "y_test = ames_test.price\n",
    "x_predictors_test = ames_test[[\"area\", \"Lot.Area\", \"Fireplaces\", \"TotalSq\", \"Garage.Cars\", \"Lot.Frontage\", \"Overall.Qual\", \"Overall.Cond\", \"Year.Built\", \"Mas.Vnr.Area\", \"BsmtFin.SF.1\", \"X1st.Flr.SF\", \"X2nd.Flr.SF\"]].fillna(value=0)"
   ]
  },
  {
   "cell_type": "markdown",
   "metadata": {},
   "source": [
    "### Alternative Algorithm: PCA"
   ]
  },
  {
   "cell_type": "code",
   "execution_count": 4,
   "metadata": {
    "collapsed": false
   },
   "outputs": [],
   "source": [
    "# scale x train data\n",
    "x_scaled_train = PCA().fit_transform(scale(x_predictors_train))\n",
    "n = len(x_scaled_train)\n",
    "\n",
    "# perform cross validation (10 k-fold)\n",
    "cross_val_k_10 = cross_validation.KFold(n, n_folds=10, shuffle=True, random_state=1)\n",
    "root_mean_sq_error_vals = []\n",
    "\n",
    "# calculate rmse values for intercept (no predictors/components)\n",
    "mean_sq_error = -1*cross_validation.cross_val_score(lin_reg(), np.ones((n,1)), y_train.ravel(), cv = cross_val_k_10, scoring = \"neg_mean_squared_error\").mean()\n",
    "root_mean_sq_error_vals.append(sqrt(mean_sq_error))\n",
    "\n",
    "# calculate rmse values for varying numbers of predictors/components\n",
    "for i in range(1, len(x_predictors_train.columns)):\n",
    "    mean_sq_error = -1*cross_validation.cross_val_score(lin_reg(), x_scaled_train[:,:i], y_train.ravel(), cv = cross_val_k_10, scoring = \"neg_mean_squared_error\").mean()\n",
    "    root_mean_sq_error_vals.append(sqrt(mean_sq_error))"
   ]
  },
  {
   "cell_type": "code",
   "execution_count": 5,
   "metadata": {
    "collapsed": false,
    "scrolled": true
   },
   "outputs": [
    {
     "data": {
      "text/plain": [
       "<matplotlib.text.Text at 0x7f8d302d89b0>"
      ]
     },
     "execution_count": 5,
     "metadata": {},
     "output_type": "execute_result"
    },
    {
     "data": {
      "image/png": "[encoded data removed]",
      "text/plain": [
       "<matplotlib.figure.Figure at 0x7f8d336e7c88>"
      ]
     },
     "metadata": {},
     "output_type": "display_data"
    }
   ],
   "source": [
    "plt.plot(root_mean_sq_error_vals)\n",
    "plt.xlabel(\"# principal components in regression\")\n",
    "plt.ylabel(\"MSE\")"
   ]
  },
  {
   "cell_type": "code",
   "execution_count": 8,
   "metadata": {
    "collapsed": false
   },
   "outputs": [
    {
     "name": "stdout",
     "output_type": "stream",
     "text": [
      "The root mean squared error for the model using PCA is: 28179 \n"
     ]
    }
   ],
   "source": [
    "# run regression using the number of principle components with smallest mse\n",
    "pca_regression = lin_reg().fit(x_scaled_train[:,:10], y_train)\n",
    "\n",
    "# use regression above to predict on test data\n",
    "x_scaled_test = PCA().fit_transform(scale(x_predictors_test))[:,:10]\n",
    "y_test_predictions = pca_regression.predict(x_scaled_test)\n",
    "rmse_test = sqrt(mean_squared_error(y_test, y_test_predictions))\n",
    "print(\"The root mean squared error for the model using PCA is: %d \" %rmse_test)"
   ]
  },
  {
   "cell_type": "markdown",
   "metadata": {},
   "source": [
    "### Description of algorithm\n",
    "\n",
    "PLS is a regression method used to overcome limitations discussed above for normal linear regressions (e.g., many collinear predictors, more predictors than samples, etc.) by mapping observed sets of observed variables to response variables by means of latent variables. Essentially the model assumes that the data is generated by an underlying model directed by a smaller number of latent variables in the data. \n",
    "\n",
    "First, two sets of latent variables are extracted from the data: $T$ (or x-scores) from the predictors, and $U$ (or y-scores) from the response variable. These latent vectors are determined through maximizing the covariance between different sets of variables. \n",
    "\n",
    "For the classic linear regression, we try to solve the equation, $ Y = XB + {\\epsilon} $, where the ordinary least squares estimate for ${\\beta}$ is identified as ${(X^T X)}^{-1} X^TY$. This estimate is obtained by minimizing the sum of squared residuals. However, models that have predictors with high collinearity or more predictors than observations can result in singularity of the matrix ${(X^T X)}$. As an alternative and way to fix this issue, we implement the PLS algorithm throught the following steps:\n",
    "\n",
    "1) Start with vector $u$. If there is only one response variable, then $ u = y $, otherwise it is one of the columns of $Y$.\n",
    "\n",
    "2) Calculate the weights for the predictors ($X$) :\n",
    "$$ w = \\frac{X^Tu}{u^Tu} $$\n",
    "\n",
    "3) Determine $t$ ($X$ scores):\n",
    "$$ t = Xw $$\n",
    "\n",
    "4) Now perform similar calculations for $Y$. Calculate the weights for the response variable:\n",
    "$$ c = \\frac{X^Tt}{t^Tt} $$\n",
    "\n",
    "5) Determine $u$ ($Y$ scores):\n",
    "$$ u = \\frac{Yc}{c^Tc} $$\n",
    "\n",
    "6) If there is more than one response variable, then we test to determine whether the $t$ values have converged. If the change in $t$ from one iteration to the next, $ \\frac{||t_{old} - t_{new}}{||t_{new}||} $, is not smaller than a threshold value, then we iterate through steps 2-5 until convergence is reached.\n",
    "\n",
    "7) Deflate variables for next iteration.\n",
    "$$ p = \\frac{X^Tt}{t^Tt} $$\n",
    "$$ X = X - tp^T $$\n",
    "$$ Y = Y - tc^T $$\n",
    "\n",
    "8) Iterate through components until they are not found to be predictive of $Y$."
   ]
  }
 ],
 "metadata": {
  "kernelspec": {
   "display_name": "Python 3",
   "language": "python",
   "name": "python3"
  },
  "language_info": {
   "codemirror_mode": {
    "name": "ipython",
    "version": 3
   },
   "file_extension": ".py",
   "mimetype": "text/x-python",
   "name": "python",
   "nbconvert_exporter": "python",
   "pygments_lexer": "ipython3",
   "version": "3.5.2"
  }
 },
 "nbformat": 4,
 "nbformat_minor": 2
}
