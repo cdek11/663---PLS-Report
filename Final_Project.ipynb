{
 "cells": [
  {
   "cell_type": "markdown",
   "metadata": {},
   "source": [
    "#### note for carmen\n",
    "include this in references, used a lot of it in running pca/pls\n",
    "http://www.science.smith.edu/~jcrouser/SDS293/labs/lab11/Lab%2011%20-%20PCR%20and%20PLS%20Regression%20in%20Python.pdf"
   ]
  },
  {
   "cell_type": "code",
   "execution_count": 1,
   "metadata": {
    "collapsed": false
   },
   "outputs": [
    {
     "name": "stderr",
     "output_type": "stream",
     "text": [
      "/opt/conda/lib/python3.5/site-packages/sklearn/cross_validation.py:44: DeprecationWarning: This module was deprecated in version 0.18 in favor of the model_selection module into which all the refactored classes and functions are moved. Also note that the interface of the new CV iterators are different from that of this module. This module will be removed in 0.20.\n",
      "  \"This module will be removed in 0.20.\", DeprecationWarning)\n"
     ]
    }
   ],
   "source": [
    "%matplotlib inline\n",
    "import time\n",
    "import timeit\n",
    "import pandas as pd\n",
    "import numpy as np\n",
    "import matplotlib.pyplot as plt\n",
    "from sklearn.preprocessing import scale\n",
    "from sklearn import cross_validation\n",
    "from sklearn.decomposition import PCA\n",
    "from sklearn.linear_model import LinearRegression as lin_reg\n",
    "from sklearn.cross_decomposition import PLSRegression, PLSSVD\n",
    "from sklearn.metrics import mean_squared_error\n",
    "from math import sqrt"
   ]
  },
  {
   "cell_type": "code",
   "execution_count": 2,
   "metadata": {
    "collapsed": false,
    "scrolled": true
   },
   "outputs": [],
   "source": [
    "# load in ames home price train and test data\n",
    "ames_train = pd.read_csv(\"ames_train.csv\")\n",
    "ames_test = pd.read_csv(\"ames_test.csv\")"
   ]
  },
  {
   "cell_type": "code",
   "execution_count": 3,
   "metadata": {
    "collapsed": false
   },
   "outputs": [],
   "source": [
    "# merge both files first so there are the same number of categories created\n",
    "ames_merged = pd.concat([ames_train, ames_test])\n",
    "ames_merged = pd.get_dummies(ames_merged).drop([\"price\", \"PID\"], axis = 1).fillna(value=0)"
   ]
  },
  {
   "cell_type": "code",
   "execution_count": 4,
   "metadata": {
    "collapsed": false
   },
   "outputs": [],
   "source": [
    "# convert categorical variables to dummy variables\n",
    "# create variables for train and test data separately, x for predictors, y for response\n",
    "\n",
    "x_predictors_train = ames_merged[0:1500]\n",
    "x_predictors_test = ames_merged[1500:2000]\n",
    "\n",
    "y_train = ames_train.price\n",
    "y_test = ames_test.price"
   ]
  },
  {
   "cell_type": "markdown",
   "metadata": {},
   "source": [
    "### Algorithm: Partial Least Squares"
   ]
  },
  {
   "cell_type": "code",
   "execution_count": null,
   "metadata": {
    "collapsed": true
   },
   "outputs": [],
   "source": [
    "import numpy as np\n",
    "import pandas as pd\n",
    "\n",
    "###Mean center and scale data##\n",
    "\n",
    "#Load data\n",
    "path = 'ames_train.csv'\n",
    "data = pd.DataFrame.from_csv(path)\n",
    "data = data[[\"price\", \"Lot.Area\", \"MS.SubClass\", \"Yr.Sold\"]] #Take price, Lot.Area, MS.SubClass, and Yr.Sold as a dataframe\n",
    "price_std = data[\"price\"].std()\n",
    "\n",
    "#Subtract the mean from each column\n",
    "data = data - data.mean()\n",
    "\n",
    "#Scale each column by the column standard deviation\n",
    "data = data/data.std()\n",
    "\n",
    "#Separate in to design matrix (X block) and response column vector (Y block)\n",
    "X = data[[\"Lot.Area\", \"MS.SubClass\", \"Yr.Sold\"]].as_matrix()\n",
    "Y = data[[\"price\"]].as_matrix()"
   ]
  },
  {
   "cell_type": "code",
   "execution_count": null,
   "metadata": {
    "collapsed": true
   },
   "outputs": [],
   "source": [
    "#SEE PAGE 16\n",
    "\n",
    "#Here we have one variable in the Y block so q = 1 \n",
    "#and omit steps 5-8\n",
    "q = 1\n",
    "\n",
    "#For the X block, u = Y\n",
    "u = Y #random y column from Y #Step 1\n",
    "w_old = np.dot(u.T,X)/np.dot(u.T,u) #Step 2\n",
    "w_new = w_old/np.linalg.norm(w_old) #Step 3\n",
    "t = np.dot(X,w_new.T)/np.dot(w_new,w_new.T) #Step 4\n",
    "\n",
    "#For the Y block can be omitted if Y only has one variable\n",
    "q_old = np.dot(t.T,Y)/np.dot(t.T,t) #Step 5\n",
    "q_new = q_old/np.linalg.norm(q_old) #Step 6\n",
    "u = np.dot(Y,q_new.T)/np.dot(q_new,q_new.T) #Step 7\n",
    "\n",
    "#Step 8: Check convergence\n",
    "\n",
    "#Calculate the X loadings and rescale the scores and weights accordingly\n",
    "p = np.dot(t.T,X)/np.dot(t.T,t) #Step 9\n",
    "p_new = p.T/np.linalg.norm(p.T) #Step 10\n",
    "t_new = t/np.linalg.norm(p.T) #Step 11\n",
    "w_new = w_old/np.linalg.norm(p)  #Step 12\n",
    "\n",
    "#Find the regression coefficient for b for th inner relation\n",
    "b = np.dot(u.T,t_new)/np.dot(t.T,t) #Step 13\n",
    "b\n",
    "\n",
    "#Calculation of the residuals\n",
    "E_h = X - np.dot(t_new,p_new.T)\n",
    "#F_h = Y - b.dot(t_new).dot(q.T) #NOT WORKING\n",
    "F_h = Y - b.dot(t_new.T).T.dot(q) #WORKS BUT IS THIS RIGHT?\n",
    "\n",
    "RMSE = np.sqrt(sum((F_h)**2)/F_h.shape[0]) \n",
    "print(RMSE * price_std) # I believe this is the RMSE since the Y had to be scaled.\n",
    "\n",
    "print(X.shape) #X matrix\n",
    "print(t_new.shape) # t column vector\n",
    "print(u.shape) # u column vector\n",
    "print(Y.shape) #Y \"matrix\" but column vector because only 1 Y variable\n",
    "print(p.shape) # p transpose row vector\n",
    "print(b.shape) # b scalar\n",
    "print(q_new.shape) # q transpose row vector\n",
    "print(w_new.shape) # w transpose row vector"
   ]
  },
  {
   "cell_type": "markdown",
   "metadata": {},
   "source": [
    "### Alternative Algorithm: PCA"
   ]
  },
  {
   "cell_type": "code",
   "execution_count": 5,
   "metadata": {
    "collapsed": false
   },
   "outputs": [],
   "source": [
    "# speed of pca algorithm\n",
    "pca_start = timeit.default_timer()\n",
    "\n",
    "# scale x train data\n",
    "x_scaled_train = PCA().fit_transform(scale(x_predictors_train))\n",
    "n = len(x_scaled_train)\n",
    "\n",
    "# perform cross validation (10 k-fold)\n",
    "cross_val_k_10 = cross_validation.KFold(n, n_folds=10, shuffle=True, random_state=1)\n",
    "pca_rmse = []\n",
    "\n",
    "# calculate rmse values for intercept (no predictors/components)\n",
    "mean_sq_error = -1*cross_validation.cross_val_score(lin_reg(), np.ones((n,1)), y_train.ravel(), cv = cross_val_k_10, scoring = \"neg_mean_squared_error\").mean()\n",
    "pca_rmse.append(sqrt(mean_sq_error))\n",
    "\n",
    "# calculate rmse values for varying numbers of predictors/components\n",
    "for i in range(1, len(x_predictors_train.columns)):\n",
    "    mean_sq_error = -1*cross_validation.cross_val_score(lin_reg(), x_scaled_train[:,:i], y_train.ravel(), cv = cross_val_k_10, scoring = \"neg_mean_squared_error\").mean()\n",
    "    pca_rmse.append(sqrt(mean_sq_error))\n",
    "\n",
    "# find number of principal components with smallest rmse\n",
    "n_pca_comps = pca_rmse.index(min(pca_rmse))\n",
    "\n",
    "# run regression using specific number of principal components\n",
    "pca_reg = lin_reg().fit(x_scaled_train[:,:n_pca_comps], y_train)\n",
    "\n",
    "# use regression above to predict on test data\n",
    "x_scaled_test = PCA().fit_transform(scale(x_predictors_test))[:,:n_pca_comps]\n",
    "y_test_pred_pca = pca_reg.predict(x_scaled_test)\n",
    "pca_rmse_test = sqrt(mean_squared_error(y_test, y_test_pred_pca))\n",
    "    \n",
    "pca_speed = timeit.default_timer() - pca_start"
   ]
  },
  {
   "cell_type": "code",
   "execution_count": 6,
   "metadata": {
    "collapsed": false,
    "scrolled": true
   },
   "outputs": [
    {
     "data": {
      "text/plain": [
       "(20000, 200000)"
      ]
     },
     "execution_count": 6,
     "metadata": {},
     "output_type": "execute_result"
    },
    {
     "data": {
      "image/png": "[encoded data removed]",
      "text/plain": [
       "<matplotlib.figure.Figure at 0x7ff3679e80f0>"
      ]
     },
     "metadata": {},
     "output_type": "display_data"
    }
   ],
   "source": [
    "plt.plot(pca_rmse)\n",
    "plt.title(\"PCA\")\n",
    "plt.xlabel(\"# principal components in regression\")\n",
    "plt.ylabel(\"RMSE\")\n",
    "plt.ylim(ymin = 20000, ymax = 200000)"
   ]
  },
  {
   "cell_type": "markdown",
   "metadata": {},
   "source": [
    "### Simple Algorithm: OLS"
   ]
  },
  {
   "cell_type": "code",
   "execution_count": 7,
   "metadata": {
    "collapsed": false
   },
   "outputs": [],
   "source": [
    "# speed of algorithm\n",
    "ols_start = timeit.default_timer()\n",
    "\n",
    "# run ols on home price model\n",
    "ols_reg = lin_reg().fit(x_predictors_train, y_train)\n",
    "y_test_pred_ols = ols_reg.predict(x_predictors_test)\n",
    "ols_rmse_test = sqrt(mean_squared_error(y_test, y_test_pred_ols))\n",
    "\n",
    "ols_speed = timeit.default_timer() - ols_start"
   ]
  },
  {
   "cell_type": "code",
   "execution_count": 8,
   "metadata": {
    "collapsed": false
   },
   "outputs": [
    {
     "data": {
      "text/html": [
       "<div>\n",
       "<table border=\"1\" class=\"dataframe\">\n",
       "  <thead>\n",
       "    <tr style=\"text-align: right;\">\n",
       "      <th></th>\n",
       "      <th>RMSE</th>\n",
       "      <th>Speed</th>\n",
       "    </tr>\n",
       "  </thead>\n",
       "  <tbody>\n",
       "    <tr>\n",
       "      <th>PLS</th>\n",
       "      <td>1.111000e+03</td>\n",
       "      <td>1111.000000</td>\n",
       "    </tr>\n",
       "    <tr>\n",
       "      <th>PCA</th>\n",
       "      <td>6.537511e+04</td>\n",
       "      <td>33.981717</td>\n",
       "    </tr>\n",
       "    <tr>\n",
       "      <th>OLS</th>\n",
       "      <td>2.524432e+08</td>\n",
       "      <td>0.054082</td>\n",
       "    </tr>\n",
       "  </tbody>\n",
       "</table>\n",
       "</div>"
      ],
      "text/plain": [
       "             RMSE        Speed\n",
       "PLS  1.111000e+03  1111.000000\n",
       "PCA  6.537511e+04    33.981717\n",
       "OLS  2.524432e+08     0.054082"
      ]
     },
     "execution_count": 8,
     "metadata": {},
     "output_type": "execute_result"
    }
   ],
   "source": [
    "# summary of all methods, accuracy and speed\n",
    "diff_methods_summary = {'RMSE' : [1111., pca_rmse_test, ols_rmse_test], 'Speed' : [1111, pca_speed, ols_speed]}\n",
    "pd.DataFrame(diff_methods_summary, index=['PLS', 'PCA', 'OLS'])"
   ]
  },
  {
   "cell_type": "markdown",
   "metadata": {},
   "source": [
    "### Description of algorithm\n",
    "\n",
    "PLS is a regression method used to overcome limitations discussed above for normal linear regressions (e.g., many collinear predictors, more predictors than samples, etc.) by mapping observed sets of observed variables to response variables by means of latent variables. Essentially the model assumes that the data is generated by an underlying model directed by a smaller number of latent variables in the data. \n",
    "\n",
    "First, two sets of latent variables are extracted from the data: $T$ (or x-scores) from the predictors, and $U$ (or y-scores) from the response variable. These latent vectors are determined through maximizing the covariance between different sets of variables. \n",
    "\n",
    "For the classic linear regression, we try to solve the equation, $ Y = XB + {\\epsilon} $, where the ordinary least squares estimate for ${\\beta}$ is identified as ${(X^T X)}^{-1} X^TY$. This estimate is obtained by minimizing the sum of squared residuals. However, models that have predictors with high collinearity or more predictors than observations can result in singularity of the matrix ${(X^T X)}$. As an alternative and way to fix this issue, we implement the PLS algorithm throught the following steps:\n",
    "\n",
    "1) Start with vector $u$. If there is only one response variable, then $ u = y $, otherwise it is one of the columns of $Y$.\n",
    "\n",
    "2) Calculate the weights for the predictors ($X$) :\n",
    "$$ w = \\frac{X^Tu}{u^Tu} $$\n",
    "\n",
    "3) Determine $t$ ($X$ scores):\n",
    "$$ t = Xw $$\n",
    "\n",
    "4) Now perform similar calculations for $Y$. Calculate the weights for the response variable:\n",
    "$$ c = \\frac{X^Tt}{t^Tt} $$\n",
    "\n",
    "5) Determine $u$ ($Y$ scores):\n",
    "$$ u = \\frac{Yc}{c^Tc} $$\n",
    "\n",
    "6) If there is more than one response variable, then we test to determine whether the $t$ values have converged. If the change in $t$ from one iteration to the next, $ \\frac{||t_{old} - t_{new}}{||t_{new}||} $, is not smaller than a threshold value, then we iterate through steps 2-5 until convergence is reached.\n",
    "\n",
    "7) Deflate variables for next iteration.\n",
    "$$ p = \\frac{X^Tt}{t^Tt} $$\n",
    "$$ X = X - tp^T $$\n",
    "$$ Y = Y - tc^T $$\n",
    "\n",
    "8) Iterate through components until they are not found to be predictive of $Y$."
   ]
  }
 ],
 "metadata": {
  "kernelspec": {
   "display_name": "Python 3",
   "language": "python",
   "name": "python3"
  },
  "language_info": {
   "codemirror_mode": {
    "name": "ipython",
    "version": 3
   },
   "file_extension": ".py",
   "mimetype": "text/x-python",
   "name": "python",
   "nbconvert_exporter": "python",
   "pygments_lexer": "ipython3",
   "version": "3.5.2"
  }
 },
 "nbformat": 4,
 "nbformat_minor": 2
}
